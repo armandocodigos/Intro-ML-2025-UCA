{
 "cells": [
  {
   "cell_type": "code",
   "execution_count": 1,
   "id": "17fa0677-cc93-4756-8a22-fc4cf8f018a9",
   "metadata": {
    "tags": []
   },
   "outputs": [],
   "source": [
    "import numpy as np\n",
    "import pandas as pd\n",
    "import matplotlib.pyplot as plt"
   ]
  },
  {
   "cell_type": "code",
   "execution_count": 2,
   "id": "780ae0e0-9739-44cb-88cf-d2372cc66b2c",
   "metadata": {
    "tags": []
   },
   "outputs": [
    {
     "name": "stderr",
     "output_type": "stream",
     "text": [
      "C:\\Users\\ronal\\anaconda3\\envs\\UCA_ML\\lib\\site-packages\\ucimlrepo\\fetch.py:97: DtypeWarning: Columns (2,3,4,5,6,7) have mixed types. Specify dtype option on import or set low_memory=False.\n",
      "  df = pd.read_csv(data_url)\n"
     ]
    }
   ],
   "source": [
    "from ucimlrepo import fetch_ucirepo \n",
    "  \n",
    "# fetch dataset \n",
    "individual_household_electric_power_consumption = fetch_ucirepo(id=235) \n",
    "  \n",
    "# data (as pandas dataframes) \n",
    "X = individual_household_electric_power_consumption.data.features \n",
    "y = individual_household_electric_power_consumption.data.targets"
   ]
  },
  {
   "cell_type": "code",
   "execution_count": null,
   "id": "3905e3be-f336-48db-bf25-711bf0d7d38b",
   "metadata": {},
   "outputs": [],
   "source": []
  }
 ],
 "metadata": {
  "kernelspec": {
   "display_name": "Python 3 (ipykernel)",
   "language": "python",
   "name": "python3"
  },
  "language_info": {
   "codemirror_mode": {
    "name": "ipython",
    "version": 3
   },
   "file_extension": ".py",
   "mimetype": "text/x-python",
   "name": "python",
   "nbconvert_exporter": "python",
   "pygments_lexer": "ipython3",
   "version": "3.9.19"
  }
 },
 "nbformat": 4,
 "nbformat_minor": 5
}
