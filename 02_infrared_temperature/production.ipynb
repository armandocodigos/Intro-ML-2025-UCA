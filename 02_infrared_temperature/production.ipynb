{
 "cells": [
  {
   "cell_type": "code",
   "execution_count": 1,
   "id": "4519a1af-eae2-40d8-97a9-0b66a2d2177e",
   "metadata": {
    "tags": []
   },
   "outputs": [],
   "source": [
    "import pickle\n",
    "import numpy as np"
   ]
  },
  {
   "cell_type": "code",
   "execution_count": 2,
   "id": "f1515c5b-3340-40c7-9182-7c87ee68be0c",
   "metadata": {
    "tags": []
   },
   "outputs": [],
   "source": [
    "filename = 'finalized_model.sav'\n",
    "modelo = pickle.load(open(filename, 'rb'))"
   ]
  },
  {
   "cell_type": "code",
   "execution_count": 3,
   "id": "9d1d1fe8-fbc1-4842-8b97-790ca0be3531",
   "metadata": {
    "tags": []
   },
   "outputs": [],
   "source": [
    "unseen = [24.0, 28.0, 0.8, 0.7025, 35.03, 35.3775, 34.4, 34.9175, 34.985, 34.985,\n",
    "        34.7625, 35.0325, 35.3375, 35.3375, 34.485, 35.3775, 34.785,\n",
    "        34.465, 35.3775, 35.3375, 33.5775, 33.4775, 33.3725, 33.4925,\n",
    "        33.0025, 34.53, 34.0075, 35.6925, 35.635, 35.6525, False, True,\n",
    "        False, False, False, False, False, True, False, False, False,\n",
    "        False, False, False, False, True]"
   ]
  },
  {
   "cell_type": "code",
   "execution_count": 4,
   "id": "3adfbdcc-2c99-4541-b343-836021591c7f",
   "metadata": {
    "tags": []
   },
   "outputs": [],
   "source": [
    "unseen = np.array(unseen).reshape(1, -1)"
   ]
  },
  {
   "cell_type": "code",
   "execution_count": 5,
   "id": "f0ef0803-c22d-4509-a630-28d1eb4bcfc3",
   "metadata": {
    "tags": []
   },
   "outputs": [
    {
     "name": "stdout",
     "output_type": "stream",
     "text": [
      "[36.8195]\n"
     ]
    },
    {
     "name": "stderr",
     "output_type": "stream",
     "text": [
      "C:\\Users\\ronal\\anaconda3\\envs\\UCA_ML\\lib\\site-packages\\sklearn\\base.py:493: UserWarning: X does not have valid feature names, but RandomForestRegressor was fitted with feature names\n",
      "  warnings.warn(\n"
     ]
    }
   ],
   "source": [
    "prediction = modelo.predict(unseen)\n",
    "print(prediction)"
   ]
  },
  {
   "cell_type": "code",
   "execution_count": 6,
   "id": "60e9e899-f52d-408f-bc5d-9c7e3a32b944",
   "metadata": {
    "tags": []
   },
   "outputs": [],
   "source": [
    "from datetime import datetime"
   ]
  },
  {
   "cell_type": "code",
   "execution_count": 7,
   "id": "93704c7d-86e1-458e-b4d7-3cc09d258003",
   "metadata": {
    "tags": []
   },
   "outputs": [
    {
     "name": "stdout",
     "output_type": "stream",
     "text": [
      "Tiempo: 0:00:00.006003\n"
     ]
    },
    {
     "name": "stderr",
     "output_type": "stream",
     "text": [
      "C:\\Users\\ronal\\anaconda3\\envs\\UCA_ML\\lib\\site-packages\\sklearn\\base.py:493: UserWarning: X does not have valid feature names, but RandomForestRegressor was fitted with feature names\n",
      "  warnings.warn(\n"
     ]
    }
   ],
   "source": [
    "start = datetime.now()\n",
    "\n",
    "prediction = modelo.predict(unseen)\n",
    "\n",
    "end = datetime.now()\n",
    "\n",
    "tiempo = end - start\n",
    "print('Tiempo:', tiempo)"
   ]
  },
  {
   "cell_type": "code",
   "execution_count": null,
   "id": "9641ef25-a8f0-4e38-8b82-e701b6d9ca42",
   "metadata": {},
   "outputs": [],
   "source": []
  }
 ],
 "metadata": {
  "kernelspec": {
   "display_name": "Python 3 (ipykernel)",
   "language": "python",
   "name": "python3"
  },
  "language_info": {
   "codemirror_mode": {
    "name": "ipython",
    "version": 3
   },
   "file_extension": ".py",
   "mimetype": "text/x-python",
   "name": "python",
   "nbconvert_exporter": "python",
   "pygments_lexer": "ipython3",
   "version": "3.9.19"
  }
 },
 "nbformat": 4,
 "nbformat_minor": 5
}
